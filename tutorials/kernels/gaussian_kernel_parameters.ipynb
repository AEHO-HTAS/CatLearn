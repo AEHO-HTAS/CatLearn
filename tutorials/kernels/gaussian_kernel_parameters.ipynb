{
 "cells": [
  {
   "cell_type": "markdown",
   "metadata": {},
   "source": [
    "This is a tutorial to give an indication of how the kernels work."
   ]
  },
  {
   "cell_type": "code",
   "execution_count": null,
   "metadata": {},
   "outputs": [],
   "source": [
    "%matplotlib inline\n",
    "\n",
    "import numpy as np\n",
    "import matplotlib.pyplot as plt\n",
    "\n",
    "from atoml.regression import GaussianProcess\n",
    "from atoml.utilities.cost_function import get_error"
   ]
  },
  {
   "cell_type": "markdown",
   "metadata": {},
   "source": [
    "We can set up a simple 2D-function to model."
   ]
  },
  {
   "cell_type": "code",
   "execution_count": null,
   "metadata": {},
   "outputs": [],
   "source": [
    "def afunc(x):\n",
    "    \"\"\"Define some polynomial function.\"\"\"\n",
    "    y = x - 50.\n",
    "    p = (y + 4) * (y + 4) * (y + 1) * (y - 1) * (y - 3.5) * (y - 2) * (y - 1)\n",
    "    p += 40. * y + 80. * np.sin(10. * x)\n",
    "    return 1. / 20. * p + 500"
   ]
  },
  {
   "cell_type": "markdown",
   "metadata": {},
   "source": [
    "We can also define a plotting function at this stage."
   ]
  },
  {
   "cell_type": "code",
   "execution_count": null,
   "metadata": {},
   "outputs": [],
   "source": [
    "def plot(sub, prediction):\n",
    "    \"\"\"Plotting function.\"\"\"\n",
    "    ax = fig.add_subplot(sub)\n",
    "    ax.plot(linex, liney, '-', lw=1, color='black')\n",
    "    ax.plot(train, target, 'o', alpha=0.5, color='black')\n",
    "    ax.plot(test, prediction, 'r-', lw=1, alpha=0.8)\n",
    "    plt.xlabel('Descriptor')\n",
    "    plt.ylabel('Response')\n",
    "    plt.axis('tight')"
   ]
  },
  {
   "cell_type": "markdown",
   "metadata": {},
   "source": [
    "And then generate some training and testing data."
   ]
  },
  {
   "cell_type": "code",
   "execution_count": null,
   "metadata": {},
   "outputs": [],
   "source": [
    "# A number of training points in x.\n",
    "train_points = 17\n",
    "noise_magnitude = 1.\n",
    "\n",
    "# Randomly generate the training datapoints x.\n",
    "train = 7.6 * np.random.sample((train_points, 1)) - 4.2 + 50\n",
    "# Each element in the list train can be referred to as a fingerprint.\n",
    "# Call the underlying function to produce the target values.\n",
    "target = np.array(afunc(train))\n",
    "\n",
    "# Add random noise from a normal distribution to the target values.\n",
    "target += noise_magnitude * np.random.randn(train_points, 1)\n",
    "\n",
    "# Generate test datapoints x.\n",
    "test_points = 513\n",
    "test = np.vstack(np.linspace(np.min(train)-0.1, np.max(train)+0.1,\n",
    "                             test_points))\n",
    "\n",
    "# Store the known underlying function for plotting.\n",
    "linex = np.linspace(np.min(test), np.max(test), test_points)\n",
    "liney = afunc(linex)"
   ]
  },
  {
   "cell_type": "markdown",
   "metadata": {},
   "source": [
    "Next we can then look at the effect of the lengthscale."
   ]
  },
  {
   "cell_type": "code",
   "execution_count": null,
   "metadata": {},
   "outputs": [],
   "source": [
    "fig = plt.figure(figsize=(20, 10))\n",
    "\n",
    "for w, p in zip([1.5, 1., 0.5, 0.1], [141, 142, 143, 144]):\n",
    "    kdict = {'k1': {'type': 'gaussian', 'width': w, 'scaling': 1.}}\n",
    "    # Set up the prediction routine.\n",
    "    gp = GaussianProcess(kernel_dict=kdict, regularization=1e-3,\n",
    "                         train_fp=train,\n",
    "                         train_target=target,\n",
    "                         optimize_hyperparameters=False, scale_data=True)\n",
    "    # Do predictions.\n",
    "    fit = gp.predict(test_fp=test)\n",
    "\n",
    "    # Get average errors.\n",
    "    error = get_error(fit['prediction'], afunc(test))\n",
    "    print('Gaussian regression error with {0} width: {1}'.format(w, error['absolute_average']))\n",
    "\n",
    "    # Plotting.\n",
    "    plot(p, fit['prediction'])"
   ]
  },
  {
   "cell_type": "markdown",
   "metadata": {},
   "source": [
    "Next we can do the same with regularization."
   ]
  },
  {
   "cell_type": "code",
   "execution_count": null,
   "metadata": {},
   "outputs": [],
   "source": [
    "fig = plt.figure(figsize=(20, 10))\n",
    "\n",
    "for r, p in zip([1., 1e-2, 1e-4, 1e-6], [141, 142, 143, 144]):\n",
    "    kdict = {'k1': {'type': 'gaussian', 'width': 0.5, 'scaling': 1.}}\n",
    "    # Set up the prediction routine.\n",
    "    gp = GaussianProcess(kernel_dict=kdict, regularization=r,\n",
    "                         train_fp=train,\n",
    "                         train_target=target,\n",
    "                         optimize_hyperparameters=False, scale_data=True)\n",
    "    # Do predictions.\n",
    "    fit = gp.predict(test_fp=test)\n",
    "\n",
    "    # Get average errors.\n",
    "    error = get_error(fit['prediction'], afunc(test))\n",
    "    print('Gaussian regression error with {0} regularization: {1}'.format(r, error['absolute_average']))\n",
    "\n",
    "    # Plotting.\n",
    "    plot(p, fit['prediction'])"
   ]
  },
  {
   "cell_type": "markdown",
   "metadata": {},
   "source": [
    "And then with scaling."
   ]
  },
  {
   "cell_type": "code",
   "execution_count": null,
   "metadata": {},
   "outputs": [],
   "source": [
    "fig = plt.figure(figsize=(20, 10))\n",
    "\n",
    "for s, p in zip([1., 1e2, 1e4, 1e6], [141, 142, 143, 144]):\n",
    "    kdict = {'k1': {'type': 'gaussian', 'width': 0.5, 'scaling': s}}\n",
    "    # Set up the prediction routine.\n",
    "    gp = GaussianProcess(kernel_dict=kdict, regularization=1e-3,\n",
    "                         train_fp=train,\n",
    "                         train_target=target,\n",
    "                         optimize_hyperparameters=False, scale_data=True)\n",
    "    # Do predictions.\n",
    "    fit = gp.predict(test_fp=test)\n",
    "\n",
    "    # Get average errors.\n",
    "    error = get_error(fit['prediction'], afunc(test))\n",
    "    print('Gaussian regression error with {0} regularization: {1}'.format(s, error['absolute_average']))\n",
    "\n",
    "    # Plotting.\n",
    "    plot(p, fit['prediction'])"
   ]
  },
  {
   "cell_type": "code",
   "execution_count": null,
   "metadata": {},
   "outputs": [],
   "source": []
  }
 ],
 "metadata": {
  "kernelspec": {
   "display_name": "Python 3",
   "language": "python",
   "name": "python3"
  },
  "language_info": {
   "codemirror_mode": {
    "name": "ipython",
    "version": 3
   },
   "file_extension": ".py",
   "mimetype": "text/x-python",
   "name": "python",
   "nbconvert_exporter": "python",
   "pygments_lexer": "ipython3",
   "version": "3.6.4"
  }
 },
 "nbformat": 4,
 "nbformat_minor": 2
}
