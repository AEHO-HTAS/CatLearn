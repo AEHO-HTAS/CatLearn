{
 "cells": [
  {
   "cell_type": "markdown",
   "metadata": {},
   "source": [
    "# Neighborlist generation\n",
    "\n",
    "Generating the neighbor list is not a trivial exercise. It can be slow and difficult to classify exactly what is and isn't a neighbor."
   ]
  },
  {
   "cell_type": "code",
   "execution_count": null,
   "metadata": {},
   "outputs": [],
   "source": [
    "import time\n",
    "import numpy as np\n",
    "from collections import defaultdict\n",
    "\n",
    "import ase.db\n",
    "from ase.neighborlist import NeighborList\n",
    "from ase.data import covalent_radii\n",
    "from ase.io import write"
   ]
  },
  {
   "cell_type": "code",
   "execution_count": null,
   "metadata": {},
   "outputs": [],
   "source": [
    "# Connect the ase-db.\n",
    "db = ase.db.connect('../../data/solar.db')\n",
    "atoms = list(db.select())\n",
    "# random.shuffle(atoms)\n",
    "\n",
    "# Compile a list of atoms and target values.\n",
    "alist = []\n",
    "targets = []\n",
    "for row in atoms:\n",
    "    try:\n",
    "        targets.append(row.Energy)\n",
    "        alist.append(row.toatoms())\n",
    "    except AttributeError:\n",
    "        continue\n",
    "\n",
    "# Analyze the size of molecules in the db.\n",
    "print('pulled {} molecules from db'.format(len(alist)))\n",
    "size = []\n",
    "for a in alist:\n",
    "    size.append(len(a))\n",
    "\n",
    "print('min: {0}, mean: {1:.0f}, max: {2} molecule size'.format(\n",
    "    min(size), sum(size)/len(size), max(size)))"
   ]
  },
  {
   "cell_type": "code",
   "execution_count": null,
   "metadata": {},
   "outputs": [],
   "source": [
    "atoms = alist[0]\n",
    "\n",
    "st = time.time()\n",
    "\n",
    "cutoffs = [covalent_radii[a.number] for a in atoms]\n",
    "nl = NeighborList(\n",
    "    cutoffs, skin=0.3, sorted=False, self_interaction=False, bothways=True)\n",
    "\n",
    "nl.build(atoms)\n",
    "\n",
    "neighborlist = {}\n",
    "for i, _ in enumerate(atoms):\n",
    "    neighborlist[i] = sorted(list(map(int, nl.get_neighbors(i)[0])))\n",
    "\n",
    "print('compiled neighborlist in {}'.format(\n",
    "    time.time() - st))"
   ]
  },
  {
   "cell_type": "code",
   "execution_count": null,
   "metadata": {},
   "outputs": [],
   "source": [
    "st = time.time()\n",
    "\n",
    "dx, neighbor_number = None, 1\n",
    "\n",
    "# Set up buffer dict.\n",
    "if dx is None:\n",
    "    dx = dict.fromkeys(set(atoms.get_atomic_numbers()), 0)\n",
    "    for i in dx:\n",
    "        dx[i] = covalent_radii[i] / 2.\n",
    "\n",
    "conn = {}\n",
    "for a1 in atoms:\n",
    "    c = []\n",
    "    for a2 in atoms:\n",
    "        if a1.index != a2.index:\n",
    "            d = np.linalg.norm(np.asarray(a1.position) -\n",
    "                               np.asarray(a2.position))\n",
    "            r1 = covalent_radii[a1.number]\n",
    "            r2 = covalent_radii[a2.number]\n",
    "            dxi = (dx[a1.number] + dx[a2.number]) / 2.\n",
    "            if neighbor_number == 1:\n",
    "                d_max1 = 0.\n",
    "            else:\n",
    "                d_max1 = ((neighbor_number - 1) * (r2 + r1)) + dxi\n",
    "            d_max2 = (neighbor_number * (r2 + r1)) + dxi\n",
    "            if d > d_max1 and d < d_max2:\n",
    "                c.append(a2.index)\n",
    "            conn[a1.index] = sorted(list(map(int, c)))\n",
    "\n",
    "print('compiled neighborlist in {}'.format(\n",
    "    time.time() - st))"
   ]
  },
  {
   "cell_type": "code",
   "execution_count": null,
   "metadata": {},
   "outputs": [],
   "source": [
    "assert neighborlist == conn"
   ]
  }
 ],
 "metadata": {
  "kernelspec": {
   "display_name": "Python 3",
   "language": "python",
   "name": "python3"
  },
  "language_info": {
   "codemirror_mode": {
    "name": "ipython",
    "version": 3
   },
   "file_extension": ".py",
   "mimetype": "text/x-python",
   "name": "python",
   "nbconvert_exporter": "python",
   "pygments_lexer": "ipython3",
   "version": "3.6.4"
  }
 },
 "nbformat": 4,
 "nbformat_minor": 2
}
