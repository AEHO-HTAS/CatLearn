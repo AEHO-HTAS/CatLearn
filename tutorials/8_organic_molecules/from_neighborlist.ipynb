{
 "cells": [
  {
   "cell_type": "markdown",
   "metadata": {},
   "source": [
    "# Neighborlist Feature Generators <a name=\"head\"></a>\n",
    "\n",
    "In this tutorial, we will look at generating features from a database of organic donor-acceptor molecules from the [Computational Materials Repository](https://cmrdb.fysik.dtu.dk/?project=solar). This has been downloaded in the [ase-db](https://wiki.fysik.dtu.dk/ase/ase/db/db.html#module-ase.db) format so first off we load the atoms objects and get a target property. Then we convert the atoms objects into a feature array and test out a couple of different models.\n",
    "\n",
    "This tutorial will give an indication of one way in which it is possible to handle atoms objects of different sizes. In particular, we focus on a feature set that scales with the number of atoms. We pad the feature vectors to a constant size to overcome this problem."
   ]
  },
  {
   "cell_type": "code",
   "execution_count": null,
   "metadata": {},
   "outputs": [],
   "source": [
    "%matplotlib inline\n",
    "import os\n",
    "import random\n",
    "import numpy as np\n",
    "import matplotlib.pyplot as plt\n",
    "import matplotlib.cm as cm\n",
    "import matplotlib.font_manager as font_manager\n",
    "import pandas as pd\n",
    "from pandas.plotting import parallel_coordinates\n",
    "import seaborn as sns\n",
    "\n",
    "import ase.db\n",
    "\n",
    "from atoml.fingerprint.setup import FeatureGenerator\n",
    "from atoml.regression import RidgeRegression, GaussianProcess\n",
    "from atoml.cross_validation import Hierarchy\n",
    "from atoml.regression.cost_function import get_error"
   ]
  },
  {
   "cell_type": "code",
   "execution_count": null,
   "metadata": {},
   "outputs": [],
   "source": [
    "# Connect the ase-db.\n",
    "db = ase.db.connect('../../data/solar.db')\n",
    "atoms = list(db.select())\n",
    "random.shuffle(atoms)\n",
    "\n",
    "# Compile a list of atoms and target values.\n",
    "alist = []\n",
    "targets = []\n",
    "for row in atoms:\n",
    "    try:\n",
    "        targets.append(row.Energy)\n",
    "        alist.append(row.toatoms())\n",
    "    except AttributeError:\n",
    "        continue\n",
    "\n",
    "# Analyze the size of molecules in the db.\n",
    "print('pulled {} molecules from db'.format(len(alist)))\n",
    "size = []\n",
    "for a in alist:\n",
    "    size.append(len(a))\n",
    "\n",
    "print('min: {0}, mean: {1:.0f}, max: {2} molecule size'.format(\n",
    "    min(size), sum(size)/len(size), max(size)))"
   ]
  },
  {
   "cell_type": "code",
   "execution_count": null,
   "metadata": {},
   "outputs": [],
   "source": [
    "from atoml.fingerprint.neighbor_matrix import neighbor_features\n",
    "\n",
    "r = []\n",
    "f = []\n",
    "for a in alist[:10]:\n",
    "    res = neighbor_features(a, property=['en_pauling', 'vdw_radius', 'atomic_number'])\n",
    "    r.append(len(res))\n",
    "    f.append(res)"
   ]
  },
  {
   "cell_type": "code",
   "execution_count": null,
   "metadata": {},
   "outputs": [],
   "source": [
    "max_vec = max(r)\n",
    "\n",
    "norm = []\n",
    "for i in f:\n",
    "    i = list(i)\n",
    "    if len(i) < max_vec:\n",
    "        i += [0] * (max_vec - len(i))\n",
    "    norm.append(i)\n",
    "\n",
    "print(np.shape(norm))\n",
    "\n",
    "train_features = np.asarray(norm)[:5, :]\n",
    "test_features = np.asarray(norm)[5:10, :]\n",
    "train_targets = np.asarray(targets)[:5]\n",
    "test_targets = np.asarray(targets)[5:10]"
   ]
  },
  {
   "cell_type": "code",
   "execution_count": null,
   "metadata": {},
   "outputs": [],
   "source": [
    "# Set up the ridge regression function.\n",
    "rr = RidgeRegression(W2=None, Vh=None, cv='loocv')\n",
    "b = rr.find_optimal_regularization(X=train_features, Y=train_targets)\n",
    "coef = rr.RR(X=train_features, Y=train_targets, omega2=b)[0]\n",
    "\n",
    "# Test the model.\n",
    "sumd = 0.\n",
    "err = []\n",
    "pred = []\n",
    "for tf, tt in zip(test_features, test_targets):\n",
    "    p = np.dot(coef, tf)\n",
    "    pred.append(p)\n",
    "    sumd += (p - tt) ** 2\n",
    "    e = ((p - tt) ** 2) ** 0.5\n",
    "    err.append(e)\n",
    "error = (sumd / len(test_features)) ** 0.5\n",
    "\n",
    "print(error)\n",
    "\n",
    "plt.figure(figsize=(30, 15))\n",
    "plt.plot(test_targets, pred, 'o', c='b', alpha=0.5)\n",
    "plt.savefig('no_geom.png')"
   ]
  },
  {
   "cell_type": "code",
   "execution_count": null,
   "metadata": {},
   "outputs": [],
   "source": [
    "kdict = {\n",
    "    'k1': {\n",
    "        'type': 'gaussian', 'width': 1., 'scaling': 1., 'dimension': 'single'},\n",
    "    'k2' : {\n",
    "        'type': 'linear', 'scaling': 1.},\n",
    "    }\n",
    "gp = GaussianProcess(train_fp=train_features, train_target=train_targets,\n",
    "                     kernel_dict=kdict, regularization=1e-2,\n",
    "                     optimize_hyperparameters=True, scale_data=True)\n",
    "\n",
    "pred = gp.predict(test_fp=test_features)\n",
    "\n",
    "error = get_error(pred['prediction'],\n",
    "                  test_targets)['rmse_average']\n",
    "\n",
    "print(error)\n",
    "\n",
    "plt.figure(figsize=(30, 15))\n",
    "plt.plot(test_targets, pred['prediction'], 'o', c='r', alpha=0.5)\n",
    "plt.savefig('no_geom_gp.png')"
   ]
  },
  {
   "cell_type": "code",
   "execution_count": null,
   "metadata": {},
   "outputs": [],
   "source": []
  }
 ],
 "metadata": {
  "kernelspec": {
   "display_name": "Python 3",
   "language": "python",
   "name": "python3"
  },
  "language_info": {
   "codemirror_mode": {
    "name": "ipython",
    "version": 3
   },
   "file_extension": ".py",
   "mimetype": "text/x-python",
   "name": "python",
   "nbconvert_exporter": "python",
   "pygments_lexer": "ipython3",
   "version": "3.6.4"
  }
 },
 "nbformat": 4,
 "nbformat_minor": 2
}
