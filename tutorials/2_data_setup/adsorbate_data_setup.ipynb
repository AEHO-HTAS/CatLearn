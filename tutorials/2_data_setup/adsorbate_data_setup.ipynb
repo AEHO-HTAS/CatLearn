{
 "cells": [
  {
   "cell_type": "markdown",
   "metadata": {},
   "source": [
    "# Adsorbate Fingerprints Setup\n",
    "\n",
    "In this tutorial we will try the adsorbate fingerprint generator, which is useful for converting adsorbates on extended surfaces into fingerprints for predicting their chemisorption energies, bond lengths or other properties.\n",
    "\n",
    "In other machine learning codes, the data usually comes as a matrix where rows represent training examples or unexplored data points, whereas columns represent features or properties of the data points. Therefore the CatLearn fingerprinters expect atoms objects as inputs and they return the data in an array."
   ]
  },
  {
   "cell_type": "code",
   "execution_count": null,
   "metadata": {},
   "outputs": [],
   "source": [
    "# Import packages.\n",
    "import numpy as np\n",
    "import ase.io\n",
    "from ase.data import atomic_numbers\n",
    "from ase.build import fcc111, add_adsorbate\n",
    "from ase.constraints import FixAtoms\n",
    "from catlearn.fingerprint.setup import FeatureGenerator\n",
    "from catlearn.fingerprint.periodic_table_data import get_radius, default_catlearn_radius\n",
    "from catlearn.fingerprint.adsorbate_prep import autogen_info\n",
    "try:\n",
    "    import matplotlib.pyplot as plt\n",
    "    import seaborn as sns\n",
    "    import pandas as pd\n",
    "    plot = True\n",
    "except ImportError:\n",
    "    print('Pandas and seaborn modules are needed for this tutorial.')"
   ]
  },
  {
   "cell_type": "markdown",
   "metadata": {},
   "source": [
    "### Generate some adsorbate/surface systems from ASE.\n",
    "\n",
    "We return the atoms objects in a list, which is the simplest format and easily transferable to CatLearn."
   ]
  },
  {
   "cell_type": "code",
   "execution_count": null,
   "metadata": {},
   "outputs": [],
   "source": [
    "\"\"\"Make a list of atoms objects.\"\"\"\n",
    "adsorbates = ['H', 'O', 'C', 'N', 'S', 'Cl', 'F']\n",
    "symbols = ['Ag', 'Au', 'Cu', 'Pt', 'Pd', 'Ir', 'Rh', 'Ni', 'Co']\n",
    "images = []\n",
    "for i, s in enumerate(symbols):\n",
    "    rs = get_radius(atomic_numbers[s])\n",
    "    a = 2 * rs * 2 ** 0.5\n",
    "    for ads in adsorbates:\n",
    "        atoms = fcc111(s, (2, 2, 3), a=a)\n",
    "        atoms.center(vacuum=6, axis=2)\n",
    "        c_atoms = [a.index for a in atoms if\n",
    "                   a.z < atoms.cell[2, 2] / 2. + 0.1]\n",
    "        atoms.set_constraint(FixAtoms(c_atoms))\n",
    "        h = (default_catlearn_radius(\n",
    "            atomic_numbers[ads]) + rs) / 2 ** 0.5\n",
    "        add_adsorbate(atoms, ads, h, 'bridge')\n",
    "        images.append(atoms)\n",
    "print(len(images), ' atoms objects created.')"
   ]
  },
  {
   "cell_type": "markdown",
   "metadata": {},
   "source": [
    "Here we have our list of atoms stored in `images`.\n",
    "\n",
    "### Attach meta data automatically.\n",
    "\n",
    "The adsorbate fingerprinter generates fingerprints based on connectivity of atoms in the adsorbate/slab system. It therefore uses certain metadata as intermediates between the atoms object and the fingerprint. A connectivity matrix is one of those metadata which can some times be computationally time consuming to generate and therefore needs to be made only once.\n",
    "\n",
    "A list of raw atoms without the metadata can be feed through `autogen_info` to attach the connectivity matrix and metadata."
   ]
  },
  {
   "cell_type": "code",
   "execution_count": null,
   "metadata": {},
   "outputs": [],
   "source": [
    "images = autogen_info(images)"
   ]
  },
  {
   "cell_type": "markdown",
   "metadata": {},
   "source": [
    "Now let's go ahead and generate our fingerprint matrix.\n",
    "\n",
    "First we instantiate the FeatureGenerator object and define the fingerprinting functions we want to call. These define what information we retrieve and include in our fingerprints."
   ]
  },
  {
   "cell_type": "code",
   "execution_count": null,
   "metadata": {},
   "outputs": [],
   "source": [
    "# Get the fingerprint generator.\n",
    "fingerprint_generator = FeatureGenerator()\n",
    "\n",
    "# List of functions to call.\n",
    "feature_functions = [fingerprint_generator.mean_site,\n",
    "                     fingerprint_generator.mean_surf_ligands]\n",
    "# There are many more available.\n",
    "\n",
    "# Run the fingerprinter.\n",
    "training_data = fingerprint_generator.return_vec(images, feature_functions)\n",
    "\n",
    "# Get a list of names of the features.\n",
    "feature_names = fingerprint_generator.return_names(feature_functions)\n",
    "\n",
    "print(np.shape(training_data), ' data matrix created.')"
   ]
  },
  {
   "cell_type": "markdown",
   "metadata": {},
   "source": [
    "The data matrix is now stored in `training_data`.\n",
    "\n",
    "### Let's analyse the output.\n",
    "\n",
    "First lets see what features were returned by the `feature_functions`:"
   ]
  },
  {
   "cell_type": "code",
   "execution_count": null,
   "metadata": {},
   "outputs": [],
   "source": [
    "for l in range(len(feature_names)):\n",
    "    print(l, feature_names[l])"
   ]
  },
  {
   "cell_type": "markdown",
   "metadata": {},
   "source": [
    "Lets try and compare some of the features about atomic radii using violinplots."
   ]
  },
  {
   "cell_type": "code",
   "execution_count": null,
   "metadata": {},
   "outputs": [],
   "source": [
    "# Select some features to plot.\n",
    "selection = [10, 11, 14]\n",
    "\n",
    "# Plot selected of the feature distributions.\n",
    "data = {}\n",
    "traint = np.transpose(training_data[:, selection])\n",
    "for i, j in zip(traint, selection):\n",
    "    data[j] = i\n",
    "df = pd.DataFrame(data)\n",
    "fig = plt.figure(figsize=(20, 10))\n",
    "ax = sns.violinplot(data=df, inner=None)\n",
    "plt.title('Feature distributions', fontsize=20)\n",
    "plt.xlabel('Feature No.', fontsize=20)\n",
    "plt.ylabel('Distribution.', fontsize=20)\n",
    "\n",
    "string = 'Plotting:'\n",
    "for s in selection:\n",
    "    string += '\\n' + str(s) + ' ' + feature_names[s]\n",
    "print(string)"
   ]
  },
  {
   "cell_type": "markdown",
   "metadata": {},
   "source": [
    "### Analysis of meta data.\n",
    "\n",
    "Attached to the atoms objects, the fingerprinter needs information about the atoms belonging to the adsorbate. \n",
    "This was generate automatically by `autogen_info`, but we can take a closer look at how this meta data is formatted:"
   ]
  },
  {
   "cell_type": "code",
   "execution_count": null,
   "metadata": {},
   "outputs": [],
   "source": [
    "# Look at meta data for the first atoms object.\n",
    "images[0].subsets"
   ]
  },
  {
   "cell_type": "markdown",
   "metadata": {},
   "source": [
    "E.g. Atomic indices of atoms belonging to the adsorbate are put in `atoms.subsets['ads_atoms']`\n",
    "There is only one index in that subset, which shows that this system had a monoatomic adsorbate."
   ]
  },
  {
   "cell_type": "code",
   "execution_count": null,
   "metadata": {},
   "outputs": [],
   "source": [
    "# Let's see which one it was.\n",
    "print('adsorbate:', images[0].get_chemical_symbols()[12])\n",
    "\n",
    "# What was the site?\n",
    "print('adsorbate:', np.array(images[0].get_chemical_symbols())[images[0].subsets['site_atoms']])"
   ]
  },
  {
   "cell_type": "markdown",
   "metadata": {},
   "source": [
    "It was a H* sitting on a Ag-Ag bridge site."
   ]
  },
  {
   "cell_type": "markdown",
   "metadata": {},
   "source": [
    "As a user, you can always choose to attach this information and avoid relying on `autogen_info`, if you prefer. There could be various reasons, why the accuracy of `autogen_info` is not always optimal.\n",
    "\n",
    "`autogen_info` will respect any subsets already present.\n",
    "\n",
    "Furthermore `autogen_info` builds the subsets using information from a connectivity matrix that is stored in `atoms.connectivity`. If the atoms object already has `atoms.connectivity`, that will be kept and used, otherwise a new one will be created using default cutoffs for neighbor distances."
   ]
  },
  {
   "cell_type": "code",
   "execution_count": null,
   "metadata": {},
   "outputs": [],
   "source": [
    "# Lets look at a connectivity matrix.\n",
    "images[0].connectivity"
   ]
  },
  {
   "cell_type": "code",
   "execution_count": null,
   "metadata": {},
   "outputs": [],
   "source": []
  }
 ],
 "metadata": {
  "kernelspec": {
   "display_name": "Python 3",
   "language": "python",
   "name": "python3"
  },
  "language_info": {
   "codemirror_mode": {
    "name": "ipython",
    "version": 3
   },
   "file_extension": ".py",
   "mimetype": "text/x-python",
   "name": "python",
   "nbconvert_exporter": "python",
   "pygments_lexer": "ipython3",
   "version": "3.6.4"
  }
 },
 "nbformat": 4,
 "nbformat_minor": 2
}
