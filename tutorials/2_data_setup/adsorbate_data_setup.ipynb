{
 "cells": [
  {
   "cell_type": "markdown",
   "metadata": {},
   "source": [
    "# Adsorbate Group Fingerprints Setup\n",
    "\n",
    "In this tutorial we will try the adsorbate fingerprint generator, which is useful for converting adsorbates on extended surfaces into fingerprints for predicting their chemisorption energies.\n",
    "\n",
    "Attached to the atoms objects, the fingerprinter needs information about the atoms belonging to the adsorbate.\n",
    "Either one can identify the atomic indices in `atoms.info['ads_index']`, or one can specify the chemical formula in `atoms.info['key_value_pairs']['species']`.\n",
    "\n",
    "  ```python\n",
    "    atoms.info['ads_atoms'] = dictionary[f]['ads_index']\n",
    "    atoms.info['key_value_pairs']['species'] = 'CH3'\n",
    "    structures.append(atoms)\n",
    "  ```"
   ]
  },
  {
   "cell_type": "code",
   "execution_count": null,
   "metadata": {},
   "outputs": [],
   "source": [
    "import numpy as np\n",
    "import ase.io\n",
    "from atoml.fingerprint.setup import FeatureGenerator\n",
    "from atoml.fingerprint.adsorbate_prep import autogen_info\n",
    "try:\n",
    "    import matplotlib.pyplot as plt\n",
    "    import seaborn as sns\n",
    "    import pandas as pd\n",
    "    plot = True\n",
    "except ImportError:\n",
    "    print('Pandas and seaborn modules are needed for this tutorial.')"
   ]
  },
  {
   "cell_type": "code",
   "execution_count": null,
   "metadata": {},
   "outputs": [],
   "source": [
    "# Data in the form of a dictionary\n",
    "dictionary = {'Ag': {'E': 1.44, 'ads_index': [30, 31, 32, 33]},\n",
    "              'Au': {'E': 1.16, 'ads_index': [30, 31, 32, 33]},\n",
    "              'Cu': {'E': 1.11, 'ads_index': [30, 31, 32, 33]}}\n",
    "\n",
    "# We first create a list of atoms objects from a simple dataset.\n",
    "structures = []\n",
    "targets = []\n",
    "for i, f in enumerate(dictionary):\n",
    "    # Loading the atoms objects from traj files.\n",
    "    atoms = ase.io.read(f + '.traj')\n",
    "    # Attach indices of adsorbate atoms to the info dict in the key 'add_atoms'\n",
    "    atoms.info['ads_atoms'] = dictionary[f]['ads_index']\n",
    "    atoms.info['dbid'] = i\n",
    "    # Get other information about the surface/adsorbate nearest neighbors.\n",
    "    # Append atoms objects to a list.\n",
    "    structures.append(atoms)\n",
    "    targets.append(dictionary[f]['E'])\n",
    "\n",
    "structure = autogen_info(structures)\n",
    "\n",
    "# Get the fingerprint generator.\n",
    "fingerprint_generator = FeatureGenerator()\n",
    "\n",
    "# List of functions to call.\n",
    "feature_functions = [fingerprint_generator.mean_site,\n",
    "                     fingerprint_generator.mean_surf_ligands]\n",
    "# There are many more available.\n",
    "\n",
    "# Generate the data\n",
    "training_data = fingerprint_generator.return_vec(structures, feature_functions)\n",
    "\n",
    "# Get a list of names of the features.\n",
    "feature_names = fingerprint_generator.return_names(feature_functions)\n",
    "\n",
    "for l in range(len(feature_names)):\n",
    "    print(l, feature_names[l])\n",
    "\n",
    "# Select some features to plot.\n",
    "selection = [10, 11, 14]\n",
    "\n",
    "# Plot selected of the feature distributions.\n",
    "data = {}\n",
    "traint = np.transpose(training_data[:, selection])\n",
    "for i, j in zip(traint, selection):\n",
    "    data[j] = i\n",
    "df = pd.DataFrame(data)\n",
    "fig = plt.figure(figsize=(20, 10))\n",
    "ax = sns.violinplot(data=df, inner=None)\n",
    "plt.title('Feature distributions')\n",
    "plt.xlabel('Feature No.')\n",
    "plt.ylabel('Distribution.')\n",
    "\n",
    "string = 'Plotting:'\n",
    "for s in selection:\n",
    "    string += '\\n' + feature_names[s]\n",
    "print(string)"
   ]
  },
  {
   "cell_type": "code",
   "execution_count": null,
   "metadata": {},
   "outputs": [],
   "source": []
  }
 ],
 "metadata": {
  "kernelspec": {
   "display_name": "Python 3",
   "language": "python",
   "name": "python3"
  },
  "language_info": {
   "codemirror_mode": {
    "name": "ipython",
    "version": 3
   },
   "file_extension": ".py",
   "mimetype": "text/x-python",
   "name": "python",
   "nbconvert_exporter": "python",
   "pygments_lexer": "ipython3",
   "version": "3.6.4"
  }
 },
 "nbformat": 4,
 "nbformat_minor": 2
}
