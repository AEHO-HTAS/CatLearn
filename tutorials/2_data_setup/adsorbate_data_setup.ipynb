{
 "cells": [
  {
   "cell_type": "markdown",
   "metadata": {},
   "source": [
    "# Adsorbate Fingerprints Setup\n",
    "\n",
    "In this tutorial we will try the adsorbate fingerprint generator, which is useful for converting adsorbates on extended surfaces into fingerprints for predicting their chemisorption energies, bond lengths or other properties."
   ]
  },
  {
   "cell_type": "code",
   "execution_count": 18,
   "metadata": {},
   "outputs": [],
   "source": [
    "# Import packages.\n",
    "import numpy as np\n",
    "import ase.io\n",
    "from ase.data import atomic_numbers\n",
    "from ase.build import fcc111, add_adsorbate\n",
    "from ase.constraints import FixAtoms\n",
    "from catlearn.fingerprint.setup import FeatureGenerator\n",
    "from catlearn.fingerprint.periodic_table_data import get_radius, default_catlearn_radius\n",
    "from catlearn.fingerprint.adsorbate_prep import autogen_info\n",
    "try:\n",
    "    import matplotlib.pyplot as plt\n",
    "    import seaborn as sns\n",
    "    import pandas as pd\n",
    "    plot = True\n",
    "except ImportError:\n",
    "    print('Pandas and seaborn modules are needed for this tutorial.')"
   ]
  },
  {
   "cell_type": "markdown",
   "metadata": {},
   "source": [
    "First we use ASE to generate some adsorbate/surface systems from ASE.\n",
    "\n",
    "We return the atoms objects in a list, which is the simplest format and easily transferable to CatLearn."
   ]
  },
  {
   "cell_type": "code",
   "execution_count": 19,
   "metadata": {},
   "outputs": [],
   "source": [
    "\"\"\"Make a list of atoms objects.\"\"\"\n",
    "adsorbates = ['H', 'O', 'C', 'N', 'S', 'Cl', 'P', 'F']\n",
    "symbols = ['Ag', 'Au', 'Cu', 'Pt', 'Pd', 'Ir', 'Rh', 'Ni', 'Co']\n",
    "images = []\n",
    "for i, s in enumerate(symbols):\n",
    "    rs = get_radius(atomic_numbers[s])\n",
    "    a = 2 * rs * 2 ** 0.5\n",
    "    for ads in adsorbates:\n",
    "        atoms = fcc111(s, (2, 2, 3), a=a)\n",
    "        atoms.center(vacuum=6, axis=2)\n",
    "        c_atoms = [a.index for a in atoms if\n",
    "                   a.z < atoms.cell[2, 2] / 2. + 0.1]\n",
    "        atoms.set_constraint(FixAtoms(c_atoms))\n",
    "        h = (default_catlearn_radius(\n",
    "            atomic_numbers[ads]) + rs) / 2 ** 0.5\n",
    "        add_adsorbate(atoms, ads, h, 'bridge')\n",
    "        images.append(atoms)"
   ]
  },
  {
   "cell_type": "markdown",
   "metadata": {},
   "source": [
    "Here we have our list of atoms stored in `images`.\n",
    "\n",
    "The adsorbate fingerprinter generates fingerprint based on connectivity of atoms in the adsorbate/slab system. It therefore uses certain metadata as intermediates between the atoms object and the fingerprint. A connectivity matrix is one of those metadata which can some times be computationally time consuming to generate and therefore needs to be made only once.\n",
    "\n",
    "A list of raw atoms without the metadata can be feed through `autogen_info` to attach the connectivity matrix and metadata."
   ]
  },
  {
   "cell_type": "code",
   "execution_count": 20,
   "metadata": {},
   "outputs": [
    {
     "name": "stderr",
     "output_type": "stream",
     "text": [
      "100%|██████████| 72/72 [00:00<00:00, 246.71it/s]\n",
      "  0%|          | 0/72 [00:00<?, ?it/s]/Users/mhangaard/src/CatLearn/catlearn/fingerprint/adsorbate_prep.py:78: UserWarning: 'species' key missing.\n",
      "  warnings.warn(\"'species' key missing.\")\n",
      "/Users/mhangaard/src/CatLearn/catlearn/fingerprint/adsorbate_prep.py:285: UserWarning: No adsorption site detected.\n",
      "  warnings.warn(msg)\n",
      "100%|██████████| 72/72 [00:00<00:00, 1827.78it/s]"
     ]
    },
    {
     "name": "stdout",
     "output_type": "stream",
     "text": [
      "[] [] []\n",
      "[] [] []\n",
      "[] [] []\n",
      "[] [] []\n",
      "[] [] []\n",
      "[] [] []\n",
      "[] [] []\n",
      "[] [] []\n",
      "[] [] []\n"
     ]
    },
    {
     "name": "stderr",
     "output_type": "stream",
     "text": [
      "\n"
     ]
    }
   ],
   "source": [
    "images = autogen_info(images)"
   ]
  },
  {
   "cell_type": "code",
   "execution_count": null,
   "metadata": {},
   "outputs": [],
   "source": [
    "\n",
    "# Get the fingerprint generator.\n",
    "fingerprint_generator = FeatureGenerator()\n",
    "\n",
    "# List of functions to call.\n",
    "feature_functions = [fingerprint_generator.mean_site,\n",
    "                     fingerprint_generator.mean_surf_ligands]\n",
    "# There are many more available.\n",
    "\n",
    "# Generate the data\n",
    "training_data = fingerprint_generator.return_vec(structures, feature_functions)\n",
    "\n",
    "# Get a list of names of the features.\n",
    "feature_names = fingerprint_generator.return_names(feature_functions)\n",
    "\n",
    "for l in range(len(feature_names)):\n",
    "    print(l, feature_names[l])\n",
    "\n",
    "# Select some features to plot.\n",
    "selection = [10, 11, 14]\n",
    "\n",
    "# Plot selected of the feature distributions.\n",
    "data = {}\n",
    "traint = np.transpose(training_data[:, selection])\n",
    "for i, j in zip(traint, selection):\n",
    "    data[j] = i\n",
    "df = pd.DataFrame(data)\n",
    "fig = plt.figure(figsize=(20, 10))\n",
    "ax = sns.violinplot(data=df, inner=None)\n",
    "plt.title('Feature distributions')\n",
    "plt.xlabel('Feature No.')\n",
    "plt.ylabel('Distribution.')\n",
    "\n",
    "string = 'Plotting:'\n",
    "for s in selection:\n",
    "    string += '\\n' + feature_names[s]\n",
    "print(string)"
   ]
  },
  {
   "cell_type": "markdown",
   "metadata": {},
   "source": [
    "Attached to the atoms objects, the fingerprinter needs information about the atoms belonging to the adsorbate.\n",
    "Either one can identify the atomic indices in `atoms.info['ads_index']`, or one can specify the chemical formula in `atoms.info['key_value_pairs']['species']`.\n",
    "\n",
    "  ```python\n",
    "    atoms.subsets['ads_atoms'] = dictionary[f]['ads_index']\n",
    "    atoms.info['key_value_pairs']['species'] = 'CH3'\n",
    "    structures.append(atoms)\n",
    "  ```"
   ]
  },
  {
   "cell_type": "code",
   "execution_count": null,
   "metadata": {},
   "outputs": [],
   "source": []
  }
 ],
 "metadata": {
  "kernelspec": {
   "display_name": "Python 3",
   "language": "python",
   "name": "python3"
  },
  "language_info": {
   "codemirror_mode": {
    "name": "ipython",
    "version": 3
   },
   "file_extension": ".py",
   "mimetype": "text/x-python",
   "name": "python",
   "nbconvert_exporter": "python",
   "pygments_lexer": "ipython3",
   "version": "3.6.4"
  }
 },
 "nbformat": 4,
 "nbformat_minor": 2
}
