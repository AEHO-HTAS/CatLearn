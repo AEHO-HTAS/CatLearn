{
 "cells": [
  {
   "cell_type": "markdown",
   "metadata": {},
   "source": [
    "Script to show data generation functions."
   ]
  },
  {
   "cell_type": "code",
   "execution_count": null,
   "metadata": {},
   "outputs": [],
   "source": [
    "from __future__ import print_function\n",
    "from __future__ import absolute_import\n",
    "\n",
    "import numpy as np\n",
    "from random import random\n",
    "\n",
    "from ase.ga.data import DataConnection\n",
    "\n",
    "from atoml.api.ase_data_setup import get_unique, get_train\n",
    "from atoml.fingerprint.setup import FeatureGenerator\n",
    "from atoml.utilities import DescriptorDatabase"
   ]
  },
  {
   "cell_type": "code",
   "execution_count": null,
   "metadata": {},
   "outputs": [],
   "source": [
    "# Connect ase atoms database.\n",
    "gadb = DataConnection('../../data/gadb.db')\n",
    "\n",
    "# Get all relaxed candidates from the db file.\n",
    "print('Getting candidates from the database')\n",
    "all_cand = gadb.get_all_relaxed_candidates(use_extinct=False)\n",
    "\n",
    "# Setup the test and training datasets.\n",
    "testset = get_unique(atoms=all_cand, size=10, key='raw_score')\n",
    "\n",
    "trainset = get_train(atoms=all_cand, size=50, taken=testset['taken'],\n",
    "                     key='raw_score')\n",
    "\n",
    "# Clear out some old saved data.\n",
    "for i in trainset['atoms']:\n",
    "    del i.info['data']['nnmat']\n",
    "\n",
    "# Initiate the fingerprint generators with relevant input variables.\n",
    "print('Getting the fingerprints')\n",
    "sfpv = FeatureGenerator(atom_types=[78, 79])\n",
    "\n",
    "data = sfpv.return_vec(trainset['atoms'], [sfpv.eigenspectrum_vec])\n",
    "\n",
    "# Define variables for database to store system descriptors.\n",
    "db_name = 'fpv_store.sqlite'\n",
    "descriptors = ['f' + str(i) for i in range(np.shape(data)[1])]\n",
    "targets = ['Energy']\n",
    "names = descriptors + targets\n",
    "\n",
    "# Set up the database to save system descriptors.\n",
    "dd = DescriptorDatabase(db_name=db_name, table='FingerVector')\n",
    "dd.create_db(names=names)\n",
    "\n",
    "# Put data in correct format to be inserted into database.\n",
    "print('Generate the database')\n",
    "new_data = []\n",
    "for i, a in zip(data, all_cand):\n",
    "    d = []\n",
    "    d.append(a.info['unique_id'])\n",
    "    for j in i:\n",
    "        d.append(j)\n",
    "    d.append(a.info['key_value_pairs']['raw_score'])\n",
    "    new_data.append(d)\n",
    "\n",
    "# Fill the database with the data.\n",
    "dd.fill_db(descriptor_names=names, data=new_data)\n",
    "\n",
    "# Test out the database functions.\n",
    "train_fingerprint = dd.query_db(names=descriptors)\n",
    "train_target = dd.query_db(names=targets)\n",
    "print('\\nfeature data for candidates:\\n', train_fingerprint,\n",
    "      '\\ntarget data for candidates:\\n', train_target)\n",
    "\n",
    "all_id = dd.query_db(names=['uuid'])\n",
    "dd.create_column(new_column=['random'])\n",
    "for i in all_id:\n",
    "    dd.update_descriptor(descriptor='random', new_data=random(),\n",
    "                         unique_id=i[0])\n",
    "print('\\nretrieve random vars:\\n', dd.query_db(names=['random']))\n",
    "\n",
    "print('\\nretrieved column names:\\n', dd.get_column_names())"
   ]
  },
  {
   "cell_type": "code",
   "execution_count": null,
   "metadata": {},
   "outputs": [],
   "source": []
  }
 ],
 "metadata": {
  "kernelspec": {
   "display_name": "Python 3",
   "language": "python",
   "name": "python3"
  },
  "language_info": {
   "codemirror_mode": {
    "name": "ipython",
    "version": 3
   },
   "file_extension": ".py",
   "mimetype": "text/x-python",
   "name": "python",
   "nbconvert_exporter": "python",
   "pygments_lexer": "ipython3",
   "version": "3.6.4"
  }
 },
 "nbformat": 4,
 "nbformat_minor": 2
}
