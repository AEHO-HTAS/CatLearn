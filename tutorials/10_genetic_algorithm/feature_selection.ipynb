{
 "cells": [
  {
   "cell_type": "markdown",
   "metadata": {},
   "source": [
    "# Feature Selection Genetic Algorithm\n",
    "\n",
    "The principle behind the genetic algorithm for feature selection is relatively simple, the feature space is represented by a binary array. Features encoded with a one means that they are present in the optimized feature set, while a zero means they have been removed."
   ]
  },
  {
   "cell_type": "code",
   "execution_count": null,
   "metadata": {},
   "outputs": [],
   "source": [
    "import numpy as np\n",
    "\n",
    "from ase.ga.data import DataConnection\n",
    "\n",
    "from atoml.api.ase_data_setup import get_unique, get_train\n",
    "from atoml.fingerprint.setup import FeatureGenerator\n",
    "from atoml.regression import GaussianProcess\n",
    "from atoml.preprocess.feature_engineering import single_transform\n",
    "from atoml.ga import GeneticAlgorithm"
   ]
  },
  {
   "cell_type": "code",
   "execution_count": null,
   "metadata": {},
   "outputs": [],
   "source": [
    "# Connect ase atoms database.\n",
    "gadb = DataConnection('../../data/gadb.db')\n",
    "\n",
    "# Get all relaxed candidates from the db file.\n",
    "all_cand = gadb.get_all_relaxed_candidates(use_extinct=False)"
   ]
  },
  {
   "cell_type": "code",
   "execution_count": null,
   "metadata": {},
   "outputs": [],
   "source": [
    "testset = get_unique(atoms=all_cand, size=100, key='raw_score')\n",
    "\n",
    "trainset = get_train(atoms=all_cand, size=500, taken=testset['taken'],\n",
    "                     key='raw_score')\n",
    "\n",
    "trainval = trainset['target']\n",
    "testval = testset['target']"
   ]
  },
  {
   "cell_type": "code",
   "execution_count": null,
   "metadata": {},
   "outputs": [],
   "source": [
    "generator = FeatureGenerator(atom_types=[78, 79], nprocs=1)\n",
    "train_data = generator.return_vec(trainset['atoms'], [generator.eigenspectrum_vec])\n",
    "test_data = generator.return_vec(testset['atoms'], [generator.eigenspectrum_vec])\n",
    "\n",
    "train_data = single_transform(train_data)\n",
    "test_data = single_transform(test_data)"
   ]
  },
  {
   "cell_type": "code",
   "execution_count": null,
   "metadata": {},
   "outputs": [],
   "source": [
    "kdict = {'k1':\n",
    "         {\n",
    "             'type': 'gaussian', 'width': 1., 'scaling': 1.,\n",
    "             'dimension': 'single'\n",
    "         }\n",
    "         }\n",
    "gp = GaussianProcess(train_fp=train_data,\n",
    "                     train_target=trainval,\n",
    "                     kernel_dict=kdict,\n",
    "                     regularization=1e-2,\n",
    "                     optimize_hyperparameters=True,\n",
    "                     scale_data=True)\n",
    "\n",
    "pred = gp.predict(test_fp=test_data, test_target=testval,\n",
    "                  get_validation_error=True,\n",
    "                  get_training_error=True)\n",
    "\n",
    "score = pred['validation_error']['rmse_average']\n",
    "\n",
    "print('all features: {0:.3f}'.format(score))"
   ]
  },
  {
   "cell_type": "code",
   "execution_count": null,
   "metadata": {},
   "outputs": [],
   "source": [
    "def fitf(x):\n",
    "    \"\"\"Define the fitness function for the GA.\"\"\"\n",
    "    bool_list = np.asarray(x, dtype=np.bool)\n",
    "    new_train = train_data[:, bool_list]\n",
    "    new_test = test_data[:, bool_list]\n",
    "\n",
    "    kdict = {'k1':\n",
    "             {\n",
    "                 'type': 'gaussian', 'width': 1., 'scaling': 1.,\n",
    "                 'dimension': 'single'\n",
    "             }\n",
    "             }\n",
    "    gp = GaussianProcess(train_fp=new_train,\n",
    "                         train_target=trainval,\n",
    "                         kernel_dict=kdict,\n",
    "                         regularization=1e-2,\n",
    "                         optimize_hyperparameters=True,\n",
    "                         scale_data=True)\n",
    "\n",
    "    pred = gp.predict(test_fp=new_test, test_target=testval,\n",
    "                      get_validation_error=True,\n",
    "                      get_training_error=True)\n",
    "\n",
    "    score = pred['validation_error']['rmse_average']\n",
    "\n",
    "    print('error: {0:.3f} for {1} features and {2} eliminated'.format(\n",
    "        score, len(x[x == 1]), len(x[x == 0])))\n",
    "\n",
    "    return -score"
   ]
  },
  {
   "cell_type": "code",
   "execution_count": null,
   "metadata": {},
   "outputs": [],
   "source": [
    "ga = GeneticAlgorithm(pop_size=10,\n",
    "                      fit_func=fitf,\n",
    "                      dimension=np.shape(train_data)[1],\n",
    "                      pop=None)\n",
    "\n",
    "ga.search(20, verbose=True)"
   ]
  }
 ],
 "metadata": {
  "kernelspec": {
   "display_name": "Python 3",
   "language": "python",
   "name": "python3"
  },
  "language_info": {
   "codemirror_mode": {
    "name": "ipython",
    "version": 3
   },
   "file_extension": ".py",
   "mimetype": "text/x-python",
   "name": "python",
   "nbconvert_exporter": "python",
   "pygments_lexer": "ipython3",
   "version": "3.6.4"
  }
 },
 "nbformat": 4,
 "nbformat_minor": 2
}
