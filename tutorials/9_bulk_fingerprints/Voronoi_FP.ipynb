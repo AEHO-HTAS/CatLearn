{
 "cells": [
  {
   "cell_type": "markdown",
   "metadata": {
    "collapsed": true
   },
   "source": [
    "# Voronoi Feature Generators <a name=\"head\"></a>\n",
    "\n",
    "In this tutorial, we will look at generating features from a database of organic donor-acceptor molecules from the [Computational Materials Repository](https://cmrdb.fysik.dtu.dk/?project=solar). This has been downloaded in the [ase-db](https://wiki.fysik.dtu.dk/ase/ase/db/db.html#module-ase.db) format so first off we load the atoms objects and get a target property. Then we convert the atoms objects into a feature array and test out a couple of different models.\n",
    "\n",
    "This tutorial will give an indication of one way in which it is possible to handle atoms objects of different sizes. In particular, we focus on a feature set that scales with the number of atoms. We pad the feature vectors to a constant size to overcome this problem.\n",
    "\n",
    "## Table of Contents\n",
    "[(Back to top)](#head)\n",
    "\n",
    "-   [Requirements](#requirements)\n",
    "-   [Data Setup](#data-setup)\n",
    "-   [Feature Generation](#feature-generation)\n",
    "-   [Predictions](#predictions)\n",
    "-   [Cross-validation](#cross-validation)\n",
    "\n",
    "## Requirements <a name=\"requirements\"></a>\n",
    "[(Back to top)](#head)\n",
    "\n",
    "-   [AtoML](https://gitlab.com/atoml/AtoML)\n",
    "-   [ASE](https://wiki.fysik.dtu.dk/ase/)\n",
    "-   [numpy](http://www.numpy.org/)\n",
    "-   [matplotlib](https://matplotlib.org/)\n",
    "-   [pandas](http://pandas.pydata.org/)\n",
    "-   [seaborn](http://seaborn.pydata.org/index.html)\n",
    "\n",
    "## Data Setup <a name=\"data-setup\"></a>\n",
    "[(Back to top)](#head)\n",
    "\n",
    "First, we need to import some functions."
   ]
  },
  {
   "cell_type": "code",
   "execution_count": 1,
   "metadata": {
    "collapsed": true
   },
   "outputs": [],
   "source": [
    "import ase\n",
    "import random\n",
    "from atoml.fingerprint.voro_fingerprint import VoronoiFingerprintGenerator"
   ]
  },
  {
   "cell_type": "code",
   "execution_count": 2,
   "metadata": {},
   "outputs": [
    {
     "name": "stdout",
     "output_type": "stream",
     "text": [
      "pulled 2704 molecules from db\n",
      "min: 5, mean: 5, max: 5 molecule size\n"
     ]
    }
   ],
   "source": [
    "# Connect the ase-db.\n",
    "db = ase.db.connect('../../data/cubic_perovskites.db')\n",
    "atoms = list(db.select(combination= 'ABO3'))\n",
    "random.shuffle(atoms)\n",
    "\n",
    "# Compile a list of atoms and target values.\n",
    "alist = []\n",
    "for row in atoms:\n",
    "    try:\n",
    "        alist.append(row.toatoms())\n",
    "    except AttributeError:\n",
    "        continue\n",
    "\n",
    "# Analyze the size of molecules in the db.\n",
    "print('pulled {} molecules from db'.format(len(alist)))\n",
    "size = []\n",
    "for a in alist:\n",
    "    size.append(len(a))\n",
    "\n",
    "print('min: {0}, mean: {1:.0f}, max: {2} molecule size'.format(\n",
    "    min(size), sum(size)/len(size), max(size)))"
   ]
  },
  {
   "cell_type": "code",
   "execution_count": 3,
   "metadata": {},
   "outputs": [
    {
     "name": "stdout",
     "output_type": "stream",
     "text": [
      "Generate Voronoi fingerprint of 2 structures\n"
     ]
    },
    {
     "data": {
      "text/html": [
       "<div>\n",
       "<style>\n",
       "    .dataframe thead tr:only-child th {\n",
       "        text-align: right;\n",
       "    }\n",
       "\n",
       "    .dataframe thead th {\n",
       "        text-align: left;\n",
       "    }\n",
       "\n",
       "    .dataframe tbody tr th {\n",
       "        vertical-align: top;\n",
       "    }\n",
       "</style>\n",
       "<table border=\"1\" class=\"dataframe\">\n",
       "  <thead>\n",
       "    <tr style=\"text-align: right;\">\n",
       "      <th></th>\n",
       "      <th>mean_EffectiveCoordination</th>\n",
       "      <th>var_EffectiveCoordination</th>\n",
       "      <th>min_EffectiveCoordination</th>\n",
       "      <th>max_EffectiveCoordination</th>\n",
       "      <th>var_MeanBondLength</th>\n",
       "      <th>min_MeanBondLength</th>\n",
       "      <th>max_MeanBondLength</th>\n",
       "      <th>mean_BondLengthVariation</th>\n",
       "      <th>var_BondLengthVariation</th>\n",
       "      <th>min_BondLengthVariation</th>\n",
       "      <th>...</th>\n",
       "      <th>min_SpaceGroupNumber</th>\n",
       "      <th>most_SpaceGroupNumber</th>\n",
       "      <th>frac_sValence</th>\n",
       "      <th>frac_pValence</th>\n",
       "      <th>frac_dValence</th>\n",
       "      <th>frac_fValence</th>\n",
       "      <th>CanFormIonic</th>\n",
       "      <th>MaxIonicChar</th>\n",
       "      <th>MeanIonicChar</th>\n",
       "      <th>id</th>\n",
       "    </tr>\n",
       "  </thead>\n",
       "  <tbody>\n",
       "    <tr>\n",
       "      <th>0</th>\n",
       "      <td>NaN</td>\n",
       "      <td>NaN</td>\n",
       "      <td>NaN</td>\n",
       "      <td>NaN</td>\n",
       "      <td>NaN</td>\n",
       "      <td>NaN</td>\n",
       "      <td>NaN</td>\n",
       "      <td>NaN</td>\n",
       "      <td>NaN</td>\n",
       "      <td>NaN</td>\n",
       "      <td>...</td>\n",
       "      <td>12.0</td>\n",
       "      <td>12.0</td>\n",
       "      <td>0.256410</td>\n",
       "      <td>0.307692</td>\n",
       "      <td>0.076923</td>\n",
       "      <td>0.358974</td>\n",
       "      <td>0.0</td>\n",
       "      <td>0.774266</td>\n",
       "      <td>0.337005</td>\n",
       "      <td>0.0</td>\n",
       "    </tr>\n",
       "    <tr>\n",
       "      <th>1</th>\n",
       "      <td>NaN</td>\n",
       "      <td>NaN</td>\n",
       "      <td>NaN</td>\n",
       "      <td>NaN</td>\n",
       "      <td>NaN</td>\n",
       "      <td>NaN</td>\n",
       "      <td>NaN</td>\n",
       "      <td>NaN</td>\n",
       "      <td>NaN</td>\n",
       "      <td>NaN</td>\n",
       "      <td>...</td>\n",
       "      <td>12.0</td>\n",
       "      <td>12.0</td>\n",
       "      <td>0.434783</td>\n",
       "      <td>0.565217</td>\n",
       "      <td>0.000000</td>\n",
       "      <td>0.000000</td>\n",
       "      <td>0.0</td>\n",
       "      <td>0.582815</td>\n",
       "      <td>0.237143</td>\n",
       "      <td>1.0</td>\n",
       "    </tr>\n",
       "  </tbody>\n",
       "</table>\n",
       "<p>2 rows × 272 columns</p>\n",
       "</div>"
      ],
      "text/plain": [
       "   mean_EffectiveCoordination  var_EffectiveCoordination  \\\n",
       "0                         NaN                        NaN   \n",
       "1                         NaN                        NaN   \n",
       "\n",
       "   min_EffectiveCoordination  max_EffectiveCoordination  var_MeanBondLength  \\\n",
       "0                        NaN                        NaN                 NaN   \n",
       "1                        NaN                        NaN                 NaN   \n",
       "\n",
       "   min_MeanBondLength  max_MeanBondLength  mean_BondLengthVariation  \\\n",
       "0                 NaN                 NaN                       NaN   \n",
       "1                 NaN                 NaN                       NaN   \n",
       "\n",
       "   var_BondLengthVariation  min_BondLengthVariation ...   \\\n",
       "0                      NaN                      NaN ...    \n",
       "1                      NaN                      NaN ...    \n",
       "\n",
       "   min_SpaceGroupNumber  most_SpaceGroupNumber  frac_sValence  frac_pValence  \\\n",
       "0                  12.0                   12.0       0.256410       0.307692   \n",
       "1                  12.0                   12.0       0.434783       0.565217   \n",
       "\n",
       "   frac_dValence  frac_fValence  CanFormIonic  MaxIonicChar  MeanIonicChar  \\\n",
       "0       0.076923       0.358974           0.0      0.774266       0.337005   \n",
       "1       0.000000       0.000000           0.0      0.582815       0.237143   \n",
       "\n",
       "    id  \n",
       "0  0.0  \n",
       "1  1.0  \n",
       "\n",
       "[2 rows x 272 columns]"
      ]
     },
     "execution_count": 3,
     "metadata": {},
     "output_type": "execute_result"
    }
   ],
   "source": [
    "voro=VoronoiFingerprintGenerator(alist[0:2])\n",
    "\n",
    "voro.generate()"
   ]
  },
  {
   "cell_type": "code",
   "execution_count": null,
   "metadata": {
    "collapsed": true
   },
   "outputs": [],
   "source": []
  }
 ],
 "metadata": {
  "kernelspec": {
   "display_name": "Python 2",
   "language": "python",
   "name": "python2"
  },
  "language_info": {
   "codemirror_mode": {
    "name": "ipython",
    "version": 2
   },
   "file_extension": ".py",
   "mimetype": "text/x-python",
   "name": "python",
   "nbconvert_exporter": "python",
   "pygments_lexer": "ipython2",
   "version": "2.7.13"
  }
 },
 "nbformat": 4,
 "nbformat_minor": 2
}
